{
 "cells": [
  {
   "cell_type": "code",
   "execution_count": 1,
   "id": "c3883e28-4a25-44d9-836e-8549dc543b85",
   "metadata": {},
   "outputs": [],
   "source": [
    "import cv2\n",
    "import mediapipe as mp"
   ]
  },
  {
   "cell_type": "code",
   "execution_count": 2,
   "id": "a37e42ee-34d4-4d96-97ec-63190e0f732f",
   "metadata": {},
   "outputs": [],
   "source": [
    "mp_hands = mp.solutions.hands\n",
    "mp_drawing = mp.solutions.drawing_utils"
   ]
  },
  {
   "cell_type": "code",
   "execution_count": null,
   "id": "e68ab0f5-d8ad-4084-b855-b2c02bf71924",
   "metadata": {},
   "outputs": [],
   "source": [
    "def count_raised_fingers(hand_landmarks):\n",
    "    \"\"\"\n",
    "    Counts the number of raised fingers in a hand.\n",
    "    Args:\n",
    "        hand_landmarks: MediaPipe hand landmarks.\n",
    "    Returns:\n",
    "        int: Number of raised fingers.\n",
    "    \"\"\"\n",
    "    # Define the tips of the fingers\n",
    "    finger_tips = [4, 8, 12, 16, 20]  # Thumb, Index, Middle, Ring, Pinky\n",
    "    finger_folded = []\n",
    "    \n",
    "    for i in range(1, 5):  # Ignore thumb (special case)\n",
    "        # Check if tip is above the middle joint\n",
    "        finger_folded.append(\n",
    "            hand_landmarks.landmark[finger_tips[i]].y <\n",
    "            hand_landmarks.landmark[finger_tips[i] - 2].y\n",
    "        )\n",
    "    \n",
    "    # Thumb is checked differently\n",
    "    thumb_folded = hand_landmarks.landmark[finger_tips[0]].x > \\\n",
    "                   hand_landmarks.landmark[finger_tips[0] - 1].x\n",
    "                   \n",
    "    return len([state for state in finger_folded if state]) + int(thumb_folded)\n",
    "\n",
    "# Start capturing video\n",
    "cap = cv2.VideoCapture(0)\n",
    "\n",
    "with mp_hands.Hands(\n",
    "    static_image_mode=False,\n",
    "    max_num_hands=1,\n",
    "    min_detection_confidence=0.7,\n",
    "    min_tracking_confidence=0.7\n",
    ") as hands:\n",
    "    while cap.isOpened():\n",
    "        success, frame = cap.read()\n",
    "        if not success:\n",
    "            print(\"Ignoring empty camera frame.\")\n",
    "            continue\n",
    "        \n",
    "        # Flip the frame for a selfie-view\n",
    "        frame = cv2.flip(frame, 1)\n",
    "        frame_rgb = cv2.cvtColor(frame, cv2.COLOR_BGR2RGB)\n",
    "        results = hands.process(frame_rgb)\n",
    "        \n",
    "        if results.multi_hand_landmarks:\n",
    "            for hand_landmarks in results.multi_hand_landmarks:\n",
    "                mp_drawing.draw_landmarks(\n",
    "                    frame, hand_landmarks, mp_hands.HAND_CONNECTIONS)\n",
    "                \n",
    "                # Count raised fingers\n",
    "                num_fingers = count_raised_fingers(hand_landmarks)\n",
    "                cv2.putText(frame, f'Fingers: {num_fingers}', (10, 50), \n",
    "                            cv2.FONT_HERSHEY_SIMPLEX, 1, (255, 0, 0), 2)\n",
    "        \n",
    "        # Display the result\n",
    "        cv2.imshow('Hand Gesture Recognition', frame)\n",
    "        \n",
    "        if cv2.waitKey(5) & 0xFF == 27:  # Press 'ESC' to exit\n",
    "            break\n",
    "\n",
    "cap.release()\n",
    "cv2.destroyAllWindows()\n"
   ]
  }
 ],
 "metadata": {
  "kernelspec": {
   "display_name": "Python 3 (ipykernel)",
   "language": "python",
   "name": "python3"
  },
  "language_info": {
   "codemirror_mode": {
    "name": "ipython",
    "version": 3
   },
   "file_extension": ".py",
   "mimetype": "text/x-python",
   "name": "python",
   "nbconvert_exporter": "python",
   "pygments_lexer": "ipython3",
   "version": "3.12.4"
  }
 },
 "nbformat": 4,
 "nbformat_minor": 5
}
